{
 "cells": [
  {
   "cell_type": "markdown",
   "metadata": {},
   "source": [
    "SOAL 1"
   ]
  },
  {
   "cell_type": "code",
   "execution_count": 1,
   "metadata": {},
   "outputs": [
    {
     "name": "stdout",
     "output_type": "stream",
     "text": [
      "Data: [19, 10, 10, 12, 13, 15, 14, 13, 9, 17]\n",
      "Rata-rata: 13.2\n",
      "Kuadrat selisih setiap nilai data dengan rata-rata:\n",
      "(19 - 13.2)**2 = 5.800000000000001**2 = 33.64000000000001\n",
      "(10 - 13.2)**2 = -3.1999999999999993**2 = 10.239999999999995\n",
      "(10 - 13.2)**2 = -3.1999999999999993**2 = 10.239999999999995\n",
      "(12 - 13.2)**2 = -1.1999999999999993**2 = 1.4399999999999984\n",
      "(13 - 13.2)**2 = -0.1999999999999993**2 = 0.039999999999999716\n",
      "(15 - 13.2)**2 = 1.8000000000000007**2 = 3.2400000000000024\n",
      "(14 - 13.2)**2 = 0.8000000000000007**2 = 0.6400000000000011\n",
      "(13 - 13.2)**2 = -0.1999999999999993**2 = 0.039999999999999716\n",
      "(9 - 13.2)**2 = -4.199999999999999**2 = 17.639999999999993\n",
      "(17 - 13.2)**2 = 3.8000000000000007**2 = 14.440000000000005\n",
      "Total kuadrat selisih: 91.6\n",
      "Jumlah total data: 10\n",
      "\n",
      "\n",
      "Variansi: 91.6 / 10 = 9.16\n"
     ]
    }
   ],
   "source": [
    "# Fungsi untuk menghitung rata-rata\n",
    "def calculate_mean(data):\n",
    "    return sum(data) / len(data)\n",
    "\n",
    "# Fungsi untuk menghitung variansi\n",
    "def calculate_variance(data):\n",
    "    # Rata-rata \n",
    "    mean = calculate_mean(data)\n",
    "    print(f\"Rata-rata: {mean}\")  \n",
    "    \n",
    "    # Kuadrat selisih antara setiap nilai data dengan rata-rata\n",
    "    print(f\"Kuadrat selisih setiap nilai data dengan rata-rata:\")    \n",
    "    squared_diff = []\n",
    "    for x in data:\n",
    "        squared_diff_per_x = (x - mean)**2\n",
    "        squared_diff.append( squared_diff_per_x )\n",
    "        print(f\"({x} - {mean})**2 = {(x - mean)}**2 = {squared_diff_per_x}\")    \n",
    "    \n",
    "    print(f\"Total kuadrat selisih: {sum(squared_diff)}\")    \n",
    "    print(f\"Jumlah total data: {len(data)}\")    \n",
    "    \n",
    "    # Jumlah kuadrat selisih antara setiap nilai data dengan rata-rata, kemudian dibagi dengan jumlah total data\n",
    "    variance = sum(squared_diff) / len(data)\n",
    "    \n",
    "    print(f\"\\n\")    \n",
    "    print(f\"Variansi: {sum(squared_diff)} / {len(data)} = {variance}\")    \n",
    "    \n",
    "    return variance\n",
    "\n",
    "\n",
    "# Inisialisasi dataset\n",
    "data = [19, 10, 10, 12, 13, 15, 14, 13, 9, 17]\n",
    "print(f\"Data: {data}\")\n",
    "\n",
    "variance = calculate_variance(data)"
   ]
  },
  {
   "cell_type": "markdown",
   "metadata": {},
   "source": [
    "SOAL 2"
   ]
  },
  {
   "cell_type": "code",
   "execution_count": 2,
   "metadata": {},
   "outputs": [
    {
     "name": "stdout",
     "output_type": "stream",
     "text": [
      "Data: [180, 185, 175, 190, 170, 195, 165]\n",
      "Rata-rata: 180.0\n",
      "Kuadrat selisih setiap nilai data dengan rata-rata:\n",
      "(180 - 180.0)**2 = 0.0**2 = 0.0\n",
      "(185 - 180.0)**2 = 5.0**2 = 25.0\n",
      "(175 - 180.0)**2 = -5.0**2 = 25.0\n",
      "(190 - 180.0)**2 = 10.0**2 = 100.0\n",
      "(170 - 180.0)**2 = -10.0**2 = 100.0\n",
      "(195 - 180.0)**2 = 15.0**2 = 225.0\n",
      "(165 - 180.0)**2 = -15.0**2 = 225.0\n",
      "Total kuadrat selisih: 700.0\n",
      "Jumlah total data: 7\n",
      "\n",
      "\n",
      "Variansi: 700.0 / 7 = 100.0\n",
      "Rata-rata: 180.0\n",
      "Kuadrat selisih setiap nilai data dengan rata-rata:\n",
      "(180 - 180.0)**2 = 0.0**2 = 0.0\n",
      "(185 - 180.0)**2 = 5.0**2 = 25.0\n",
      "(175 - 180.0)**2 = -5.0**2 = 25.0\n",
      "(190 - 180.0)**2 = 10.0**2 = 100.0\n",
      "(170 - 180.0)**2 = -10.0**2 = 100.0\n",
      "(195 - 180.0)**2 = 15.0**2 = 225.0\n",
      "(165 - 180.0)**2 = -15.0**2 = 225.0\n",
      "Total kuadrat selisih: 700.0\n",
      "Jumlah total data: 7\n",
      "\n",
      "\n",
      "Variansi: 700.0 / 7 = 100.0\n",
      "\n",
      "\n",
      "Standard Deviation: 100.0**0.5 = 10.0\n"
     ]
    },
    {
     "data": {
      "image/png": "[encoded data removed]",
      "text/plain": [
       "<Figure size 640x480 with 1 Axes>"
      ]
     },
     "metadata": {},
     "output_type": "display_data"
    }
   ],
   "source": [
    "# Fungsi untuk menghitung rata-rata\n",
    "def calculate_mean(data):\n",
    "    return sum(data) / len(data)\n",
    "\n",
    "# Fungsi untuk menghitung variansi\n",
    "def calculate_variance(data):\n",
    "    # Rata-rata \n",
    "    mean = calculate_mean(data)\n",
    "    print(f\"Rata-rata: {mean}\")  \n",
    "    \n",
    "    # Kuadrat selisih antara setiap nilai data dengan rata-rata\n",
    "    print(f\"Kuadrat selisih setiap nilai data dengan rata-rata:\")    \n",
    "    squared_diff = []\n",
    "    for x in data:\n",
    "        squared_diff_per_x = (x - mean)**2\n",
    "        squared_diff.append( squared_diff_per_x )\n",
    "        print(f\"({x} - {mean})**2 = {(x - mean)}**2 = {squared_diff_per_x}\")    \n",
    "    \n",
    "    print(f\"Total kuadrat selisih: {sum(squared_diff)}\")    \n",
    "    print(f\"Jumlah total data: {len(data)}\")    \n",
    "    \n",
    "    # Jumlah kuadrat selisih antara setiap nilai data dengan rata-rata, kemudian dibagi dengan jumlah total data\n",
    "    variance = sum(squared_diff) / len(data)\n",
    "    \n",
    "    print(f\"\\n\")    \n",
    "    print(f\"Variansi: {sum(squared_diff)} / {len(data)} = {variance}\")    \n",
    "    \n",
    "    return variance\n",
    "\n",
    "\n",
    "# Inisialisasi dataset\n",
    "data = [180, 185, 175, 190, 170, 195, 165]\n",
    "print(f\"Data: {data}\")\n",
    "\n",
    "variance = calculate_variance(data)\n",
    "\n",
    "# Fungsi untuk menghitung standar deviasi\n",
    "def calculate_standard_deviation(data):\n",
    "    variance = calculate_variance(data)\n",
    "    standard_deviation = variance**0.5\n",
    "    print(f\"\\n\")   \n",
    "    print(f\"Standard Deviation: {variance}**0.5 = {standard_deviation}\")\n",
    "    \n",
    "    return standard_deviation\n",
    "\n",
    "standard_deviation = calculate_standard_deviation(data)\n",
    "mean = calculate_mean(data)\n",
    "\n",
    "import matplotlib.pyplot as plt\n",
    "import numpy as np\n",
    "\n",
    "# Buat histogram\n",
    "plt.hist(data, bins=30, edgecolor='black', alpha=0.5, color='green')\n",
    "\n",
    "# Tambahkan garis vertikal pada standar deviasi\n",
    "plt.axvline(x=mean, color='red', linestyle='dashed', linewidth=1, label=f'Mean = {mean}')\n",
    "plt.axvline(x=mean - standard_deviation, color='blue', linestyle='dashed', linewidth=1, label=f'{mean-standard_deviation:.2f}')\n",
    "plt.axvline(x=mean + standard_deviation, color='blue', linestyle='dashed', linewidth=1, label=f'{mean+standard_deviation:.2f}')\n",
    "\n",
    "# Tambahkan label dan judul\n",
    "plt.xlabel('Tinggu (cm)')\n",
    "plt.ylabel('Jumlah')\n",
    "plt.title(f'Std Deviation = {standard_deviation:.2f}')\n",
    "\n",
    "# Tambahkan legenda\n",
    "plt.legend()\n",
    "\n",
    "# Tampilkan plot\n",
    "plt.show()"
   ]
  },
  {
   "cell_type": "markdown",
   "metadata": {},
   "source": []
  }
 ],
 "metadata": {
  "kernelspec": {
   "display_name": ".venv",
   "language": "python",
   "name": "python3"
  },
  "language_info": {
   "codemirror_mode": {
    "name": "ipython",
    "version": 3
   },
   "file_extension": ".py",
   "mimetype": "text/x-python",
   "name": "python",
   "nbconvert_exporter": "python",
   "pygments_lexer": "ipython3",
   "version": "3.9.1"
  }
 },
 "nbformat": 4,
 "nbformat_minor": 2
}
